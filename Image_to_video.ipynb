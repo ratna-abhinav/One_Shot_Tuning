{
  "nbformat": 4,
  "nbformat_minor": 0,
  "metadata": {
    "colab": {
      "provenance": [],
      "collapsed_sections": [
        "wLHSIArLcFK0",
        "Rj17psVw7Shg",
        "buW6BaNga-XH",
        "8B9GlZrotBXy",
        "i7AZkYjKgQTm",
        "BIc33L9-uK4q"
      ],
      "include_colab_link": true
    },
    "kernelspec": {
      "name": "python3",
      "display_name": "Python 3"
    },
    "language_info": {
      "name": "python"
    }
  },
  "cells": [
    {
      "cell_type": "markdown",
      "metadata": {
        "id": "view-in-github",
        "colab_type": "text"
      },
      "source": [
        "<a href=\"https://colab.research.google.com/github/ratna-abhinav/Text_to-Video-Generator/blob/main/Image_to_video.ipynb\" target=\"_parent\"><img src=\"https://colab.research.google.com/assets/colab-badge.svg\" alt=\"Open In Colab\"/></a>"
      ]
    },
    {
      "cell_type": "code",
      "source": [
        "import os\n",
        "import cv2\n",
        "from PIL import Image\n",
        "os.chdir(\"/content/Images\")\n",
        "total_width=0\n",
        "total_height=0\n",
        "for file in os.listdir('.'):\n",
        "    if (file == '.ipynb_checkpoints'):\n",
        "      continue\n",
        "    im=Image.open(os.path.join(\"/content/Images\",file))\n",
        "    width,height=im.size\n",
        "    total_width+=width\n",
        "    total_height+=height\n",
        "\n",
        "numofimages=len(os.listdir('.'))\n",
        "mean_width=int(total_width/numofimages)\n",
        "mean_height=int(total_height/numofimages)\n",
        "for file in os.listdir('.'):\n",
        "    if file.endswith(\".jpg\") or file.endswith(\".jpeg\") or file.endswith(\".png\"):\n",
        "        im=Image.open(os.path.join(\"/content/Images\",file))\n",
        "        print(\"yay\\n\")\n",
        "        imResize=im.resize((mean_width,mean_height),Image.LANCZOS)\n",
        "        imResize.save(file,'JPEG',quality=95)"
      ],
      "metadata": {
        "id": "oQMmxhONzy5e",
        "colab": {
          "base_uri": "https://localhost:8080/"
        },
        "outputId": "76ebfb7e-3704-4c63-ea9e-87e7b38f4d2d"
      },
      "execution_count": null,
      "outputs": [
        {
          "output_type": "stream",
          "name": "stdout",
          "text": [
            "yay\n",
            "\n",
            "yay\n",
            "\n",
            "yay\n",
            "\n",
            "yay\n",
            "\n",
            "yay\n",
            "\n",
            "yay\n",
            "\n",
            "yay\n",
            "\n",
            "yay\n",
            "\n",
            "yay\n",
            "\n",
            "yay\n",
            "\n",
            "yay\n",
            "\n",
            "yay\n",
            "\n",
            "yay\n",
            "\n",
            "yay\n",
            "\n",
            "yay\n",
            "\n",
            "yay\n",
            "\n",
            "yay\n",
            "\n",
            "yay\n",
            "\n",
            "yay\n",
            "\n",
            "yay\n",
            "\n",
            "yay\n",
            "\n",
            "yay\n",
            "\n",
            "yay\n",
            "\n",
            "yay\n",
            "\n",
            "yay\n",
            "\n",
            "yay\n",
            "\n"
          ]
        }
      ]
    },
    {
      "cell_type": "code",
      "source": [
        "def generate_video():\n",
        "    image_folder = '.' # Use the folder\n",
        "    video_name = 'mygeneratedvideo.avi'\n",
        "    os.chdir(\"/content/Images\")\n",
        "    images = [img for img in os.listdir(image_folder) if img.endswith(\".jpg\") or\n",
        "             img.endswith(\".jpeg\") or img.endswith(\"png\")]\n",
        "\n",
        "    fourcc = cv2.VideoWriter_fourcc(*'DIVX')\n",
        "\n",
        "    # Array images should only consider\n",
        "    # the image files ignoring others if any\n",
        "\n",
        "    frame = cv2.imread(os.path.join(image_folder, images[0]))\n",
        "\n",
        "    # setting the frame width, height width\n",
        "    # the width, height of first image\n",
        "    height, width, layers = frame.shape\n",
        "\n",
        "    video = cv2.VideoWriter(video_name, fourcc, 1, (width, height))\n",
        "\n",
        "    # Appending the images to the video one by one\n",
        "    for image in images:\n",
        "        video.write(cv2.imread(os.path.join(image_folder,image)))\n",
        "\n",
        "    # Deallocating memories taken for window creation\n",
        "    # cv2.destroyAllWindows()\n",
        "    video.release()  # releasing the video generated\n",
        "\n",
        "\n",
        "generate_video()"
      ],
      "metadata": {
        "id": "hENCCOue0Gto"
      },
      "execution_count": null,
      "outputs": []
    },
    {
      "cell_type": "code",
      "source": [],
      "metadata": {
        "id": "hiht2q3a7itx"
      },
      "execution_count": null,
      "outputs": []
    }
  ]
}