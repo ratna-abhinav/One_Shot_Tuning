{
  "cells": [
    {
      "cell_type": "markdown",
      "metadata": {
        "id": "view-in-github",
        "colab_type": "text"
      },
      "source": [
        "<a href=\"https://colab.research.google.com/github/ratna-abhinav/Text_to-Video-Generator/blob/main/ddpm_inversion.ipynb\" target=\"_parent\"><img src=\"https://colab.research.google.com/assets/colab-badge.svg\" alt=\"Open In Colab\"/></a>"
      ]
    },
    {
      "cell_type": "code",
      "execution_count": null,
      "metadata": {
        "id": "8NOklb6GSQnY"
      },
      "outputs": [],
      "source": [
        "!git clone https://github.com/inbarhub/DDPM_inversion.git"
      ]
    },
    {
      "cell_type": "code",
      "execution_count": null,
      "metadata": {
        "colab": {
          "base_uri": "https://localhost:8080/"
        },
        "id": "flAX1dmwVMV9",
        "outputId": "1cc40990-b9b9-4164-efd9-6a31a1c92593",
        "collapsed": true
      },
      "outputs": [
        {
          "output_type": "stream",
          "name": "stdout",
          "text": [
            "\u001b[0m\u001b[01;34mddm_inversion\u001b[0m/   \u001b[01;34mimgs\u001b[0m/        \u001b[01;34mprompt_to_prompt\u001b[0m/  \u001b[01;34mresults\u001b[0m/\n",
            "\u001b[01;34mDDPM_inversion\u001b[0m/  LICENSE      README.md          test.yaml\n",
            "\u001b[01;34mexample_images\u001b[0m/  main_run.py  requirements.txt\n"
          ]
        }
      ],
      "source": [
        "%ls"
      ]
    },
    {
      "cell_type": "code",
      "execution_count": null,
      "metadata": {
        "colab": {
          "base_uri": "https://localhost:8080/"
        },
        "id": "eSwX-NoqVTNP",
        "outputId": "99072bfa-3bee-4763-bbcc-0106cdc38bbe",
        "collapsed": true
      },
      "outputs": [
        {
          "name": "stdout",
          "output_type": "stream",
          "text": [
            "/content/DDPM_inversion\n"
          ]
        }
      ],
      "source": [
        "%cd DDPM_inversion"
      ]
    },
    {
      "cell_type": "code",
      "execution_count": null,
      "metadata": {
        "colab": {
          "base_uri": "https://localhost:8080/"
        },
        "id": "cZOLl5UDPGeI",
        "outputId": "2c7126b7-c7d4-4a1f-f318-55baa8e8f459",
        "collapsed": true
      },
      "outputs": [
        {
          "output_type": "stream",
          "name": "stdout",
          "text": [
            "Requirement already satisfied: accelerate==0.18.0 in /usr/local/lib/python3.10/dist-packages (from -r requirements.txt (line 1)) (0.18.0)\n",
            "Requirement already satisfied: certifi==2022.12.7 in /usr/local/lib/python3.10/dist-packages (from -r requirements.txt (line 2)) (2022.12.7)\n",
            "Requirement already satisfied: charset-normalizer==3.1.0 in /usr/local/lib/python3.10/dist-packages (from -r requirements.txt (line 3)) (3.1.0)\n",
            "Requirement already satisfied: cmake==3.26.3 in /usr/local/lib/python3.10/dist-packages (from -r requirements.txt (line 4)) (3.26.3)\n",
            "Requirement already satisfied: contourpy==1.0.7 in /usr/local/lib/python3.10/dist-packages (from -r requirements.txt (line 5)) (1.0.7)\n",
            "Requirement already satisfied: cycler==0.11.0 in /usr/local/lib/python3.10/dist-packages (from -r requirements.txt (line 6)) (0.11.0)\n",
            "Requirement already satisfied: diffusers==0.8.0 in /usr/local/lib/python3.10/dist-packages (from -r requirements.txt (line 7)) (0.8.0)\n",
            "Requirement already satisfied: filelock==3.12.0 in /usr/local/lib/python3.10/dist-packages (from -r requirements.txt (line 8)) (3.12.0)\n",
            "Requirement already satisfied: fonttools==4.39.3 in /usr/local/lib/python3.10/dist-packages (from -r requirements.txt (line 9)) (4.39.3)\n",
            "Requirement already satisfied: huggingface-hub==0.13.4 in /usr/local/lib/python3.10/dist-packages (from -r requirements.txt (line 10)) (0.13.4)\n",
            "Requirement already satisfied: idna==3.4 in /usr/local/lib/python3.10/dist-packages (from -r requirements.txt (line 11)) (3.4)\n",
            "Requirement already satisfied: importlib-metadata==6.5.0 in /usr/local/lib/python3.10/dist-packages (from -r requirements.txt (line 12)) (6.5.0)\n",
            "Requirement already satisfied: importlib-resources==5.12.0 in /usr/local/lib/python3.10/dist-packages (from -r requirements.txt (line 13)) (5.12.0)\n",
            "Requirement already satisfied: Jinja2==3.1.2 in /usr/local/lib/python3.10/dist-packages (from -r requirements.txt (line 14)) (3.1.2)\n",
            "Requirement already satisfied: kiwisolver==1.4.4 in /usr/local/lib/python3.10/dist-packages (from -r requirements.txt (line 15)) (1.4.4)\n",
            "Requirement already satisfied: lit==16.0.1 in /usr/local/lib/python3.10/dist-packages (from -r requirements.txt (line 16)) (16.0.1)\n",
            "Requirement already satisfied: MarkupSafe==2.1.2 in /usr/local/lib/python3.10/dist-packages (from -r requirements.txt (line 17)) (2.1.2)\n",
            "Requirement already satisfied: matplotlib==3.7.1 in /usr/local/lib/python3.10/dist-packages (from -r requirements.txt (line 18)) (3.7.1)\n",
            "Requirement already satisfied: mpmath==1.3.0 in /usr/local/lib/python3.10/dist-packages (from -r requirements.txt (line 19)) (1.3.0)\n",
            "Requirement already satisfied: networkx==3.1 in /usr/local/lib/python3.10/dist-packages (from -r requirements.txt (line 20)) (3.1)\n",
            "Requirement already satisfied: numpy==1.24.2 in /usr/local/lib/python3.10/dist-packages (from -r requirements.txt (line 21)) (1.24.2)\n",
            "Requirement already satisfied: nvidia-cublas-cu11==11.10.3.66 in /usr/local/lib/python3.10/dist-packages (from -r requirements.txt (line 22)) (11.10.3.66)\n",
            "Requirement already satisfied: nvidia-cuda-cupti-cu11==11.7.101 in /usr/local/lib/python3.10/dist-packages (from -r requirements.txt (line 23)) (11.7.101)\n",
            "Requirement already satisfied: nvidia-cuda-nvrtc-cu11==11.7.99 in /usr/local/lib/python3.10/dist-packages (from -r requirements.txt (line 24)) (11.7.99)\n",
            "Requirement already satisfied: nvidia-cuda-runtime-cu11==11.7.99 in /usr/local/lib/python3.10/dist-packages (from -r requirements.txt (line 25)) (11.7.99)\n",
            "Requirement already satisfied: nvidia-cudnn-cu11==8.5.0.96 in /usr/local/lib/python3.10/dist-packages (from -r requirements.txt (line 26)) (8.5.0.96)\n",
            "Requirement already satisfied: nvidia-cufft-cu11==10.9.0.58 in /usr/local/lib/python3.10/dist-packages (from -r requirements.txt (line 27)) (10.9.0.58)\n",
            "Requirement already satisfied: nvidia-curand-cu11==10.2.10.91 in /usr/local/lib/python3.10/dist-packages (from -r requirements.txt (line 28)) (10.2.10.91)\n",
            "Requirement already satisfied: nvidia-cusolver-cu11==11.4.0.1 in /usr/local/lib/python3.10/dist-packages (from -r requirements.txt (line 29)) (11.4.0.1)\n",
            "Requirement already satisfied: nvidia-cusparse-cu11==11.7.4.91 in /usr/local/lib/python3.10/dist-packages (from -r requirements.txt (line 30)) (11.7.4.91)\n",
            "Requirement already satisfied: nvidia-nccl-cu11==2.14.3 in /usr/local/lib/python3.10/dist-packages (from -r requirements.txt (line 31)) (2.14.3)\n",
            "Requirement already satisfied: nvidia-nvtx-cu11==11.7.91 in /usr/local/lib/python3.10/dist-packages (from -r requirements.txt (line 32)) (11.7.91)\n",
            "Requirement already satisfied: opencv-python==4.7.0.72 in /usr/local/lib/python3.10/dist-packages (from -r requirements.txt (line 33)) (4.7.0.72)\n",
            "Requirement already satisfied: packaging==23.1 in /usr/local/lib/python3.10/dist-packages (from -r requirements.txt (line 34)) (23.1)\n",
            "Requirement already satisfied: Pillow==9.5.0 in /usr/local/lib/python3.10/dist-packages (from -r requirements.txt (line 35)) (9.5.0)\n",
            "Requirement already satisfied: psutil==5.9.5 in /usr/local/lib/python3.10/dist-packages (from -r requirements.txt (line 36)) (5.9.5)\n",
            "Requirement already satisfied: pyparsing==3.0.9 in /usr/local/lib/python3.10/dist-packages (from -r requirements.txt (line 37)) (3.0.9)\n",
            "Requirement already satisfied: python-dateutil==2.8.2 in /usr/local/lib/python3.10/dist-packages (from -r requirements.txt (line 38)) (2.8.2)\n",
            "Requirement already satisfied: PyYAML==6.0 in /usr/local/lib/python3.10/dist-packages (from -r requirements.txt (line 39)) (6.0)\n",
            "Requirement already satisfied: regex==2023.3.23 in /usr/local/lib/python3.10/dist-packages (from -r requirements.txt (line 40)) (2023.3.23)\n",
            "Requirement already satisfied: requests==2.28.2 in /usr/local/lib/python3.10/dist-packages (from -r requirements.txt (line 41)) (2.28.2)\n",
            "Requirement already satisfied: six==1.16.0 in /usr/local/lib/python3.10/dist-packages (from -r requirements.txt (line 42)) (1.16.0)\n",
            "Requirement already satisfied: sympy==1.11.1 in /usr/local/lib/python3.10/dist-packages (from -r requirements.txt (line 43)) (1.11.1)\n",
            "Requirement already satisfied: tokenizers==0.13.3 in /usr/local/lib/python3.10/dist-packages (from -r requirements.txt (line 44)) (0.13.3)\n",
            "Requirement already satisfied: torch==2.0.0 in /usr/local/lib/python3.10/dist-packages (from -r requirements.txt (line 45)) (2.0.0)\n",
            "Requirement already satisfied: torchaudio==2.0.1 in /usr/local/lib/python3.10/dist-packages (from -r requirements.txt (line 46)) (2.0.1)\n",
            "Requirement already satisfied: torchvision==0.15.1 in /usr/local/lib/python3.10/dist-packages (from -r requirements.txt (line 47)) (0.15.1)\n",
            "Requirement already satisfied: tqdm==4.65.0 in /usr/local/lib/python3.10/dist-packages (from -r requirements.txt (line 48)) (4.65.0)\n",
            "Requirement already satisfied: transformers==4.28.1 in /usr/local/lib/python3.10/dist-packages (from -r requirements.txt (line 49)) (4.28.1)\n",
            "Requirement already satisfied: triton==2.0.0 in /usr/local/lib/python3.10/dist-packages (from -r requirements.txt (line 50)) (2.0.0)\n",
            "Requirement already satisfied: typing_extensions==4.5.0 in /usr/local/lib/python3.10/dist-packages (from -r requirements.txt (line 51)) (4.5.0)\n",
            "Requirement already satisfied: urllib3==1.26.15 in /usr/local/lib/python3.10/dist-packages (from -r requirements.txt (line 52)) (1.26.15)\n",
            "Requirement already satisfied: zipp==3.15.0 in /usr/local/lib/python3.10/dist-packages (from -r requirements.txt (line 53)) (3.15.0)\n",
            "Requirement already satisfied: setuptools in /usr/local/lib/python3.10/dist-packages (from nvidia-cublas-cu11==11.10.3.66->-r requirements.txt (line 22)) (67.7.2)\n",
            "Requirement already satisfied: wheel in /usr/local/lib/python3.10/dist-packages (from nvidia-cublas-cu11==11.10.3.66->-r requirements.txt (line 22)) (0.41.2)\n"
          ]
        }
      ],
      "source": [
        "!python -m pip install -r requirements.txt"
      ]
    },
    {
      "cell_type": "code",
      "execution_count": null,
      "metadata": {
        "colab": {
          "base_uri": "https://localhost:8080/"
        },
        "id": "fhE9O-XrPInu",
        "outputId": "52d99ba7-ccd2-4ce3-8e4b-7bedc4a98e6d",
        "collapsed": true
      },
      "outputs": [
        {
          "output_type": "stream",
          "name": "stdout",
          "text": [
            "2023-08-31 08:03:14.256932: W tensorflow/compiler/tf2tensorrt/utils/py_utils.cc:38] TF-TRT Warning: Could not find TensorRT\n",
            "Fetching 30 files: 100% 30/30 [00:00<00:00, 149440.76it/s]\n",
            "The config attributes {'scaling_factor': 0.18215} were passed to AutoencoderKL, but are not expected and will be ignored. Please verify your config.json configuration file.\n",
            "`text_config_dict` is provided which will be used to initialize `CLIPTextConfig`. The value `text_config[\"id2label\"]` will be overriden.\n",
            "100% 100/100 [01:00<00:00,  1.66it/s]\n",
            "100% 64/64 [00:44<00:00,  1.45it/s]\n",
            "100% 64/64 [00:43<00:00,  1.49it/s]\n",
            "100% 64/64 [00:43<00:00,  1.47it/s]\n",
            "100% 100/100 [01:07<00:00,  1.47it/s]\n",
            "100% 64/64 [00:43<00:00,  1.47it/s]\n"
          ]
        }
      ],
      "source": [
        "!python3 main_run.py --mode=\"our_inv\" --dataset_yaml=\"test.yaml\" --skip=36 --cfg_tar=15"
      ]
    },
    {
      "cell_type": "code",
      "execution_count": null,
      "metadata": {
        "id": "z8J2hDAxQXQL"
      },
      "outputs": [],
      "source": []
    }
  ],
  "metadata": {
    "accelerator": "GPU",
    "colab": {
      "provenance": [],
      "include_colab_link": true
    },
    "kernelspec": {
      "display_name": "Python 3",
      "name": "python3"
    },
    "language_info": {
      "codemirror_mode": {
        "name": "ipython",
        "version": 3
      },
      "file_extension": ".py",
      "mimetype": "text/x-python",
      "name": "python",
      "nbconvert_exporter": "python",
      "pygments_lexer": "ipython3",
      "version": "3.7.6"
    }
  },
  "nbformat": 4,
  "nbformat_minor": 0
}